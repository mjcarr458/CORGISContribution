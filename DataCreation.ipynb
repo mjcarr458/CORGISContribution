{
 "metadata": {
  "language_info": {
   "codemirror_mode": {
    "name": "ipython",
    "version": 3
   },
   "file_extension": ".py",
   "mimetype": "text/x-python",
   "name": "python",
   "nbconvert_exporter": "python",
   "pygments_lexer": "ipython3",
   "version": "3.9.1-final"
  },
  "orig_nbformat": 2,
  "kernelspec": {
   "name": "python3",
   "display_name": "Python 3.9.1 64-bit",
   "metadata": {
    "interpreter": {
     "hash": "7812ea015bdcee6f23a998adcdd2ef97c151c0c241b7b7070987d9313e41299d"
    }
   }
  }
 },
 "nbformat": 4,
 "nbformat_minor": 2,
 "cells": [
  {
   "cell_type": "code",
   "execution_count": 1,
   "metadata": {},
   "outputs": [],
   "source": [
    "import numpy as np\n",
    "import pandas as pd"
   ]
  },
  {
   "source": [
    "### Importing Raw Data Set"
   ],
   "cell_type": "markdown",
   "metadata": {}
  },
  {
   "cell_type": "code",
   "execution_count": 2,
   "metadata": {},
   "outputs": [
    {
     "output_type": "stream",
     "name": "stdout",
     "text": [
      "<class 'pandas.core.frame.DataFrame'>\nRangeIndex: 3981 entries, 0 to 3980\nData columns (total 14 columns):\n #   Column               Non-Null Count  Dtype  \n---  ------               --------------  -----  \n 0   FIPS                 3264 non-null   float64\n 1   Admin2               3269 non-null   object \n 2   Province_State       3810 non-null   object \n 3   Country_Region       3981 non-null   object \n 4   Last_Update          3981 non-null   object \n 5   Lat                  3893 non-null   float64\n 6   Long_                3893 non-null   float64\n 7   Confirmed            3981 non-null   int64  \n 8   Deaths               3981 non-null   int64  \n 9   Recovered            706 non-null    float64\n 10  Active               704 non-null    float64\n 11  Combined_Key         3981 non-null   object \n 12  Incident_Rate        3893 non-null   float64\n 13  Case_Fatality_Ratio  3940 non-null   float64\ndtypes: float64(7), int64(2), object(5)\nmemory usage: 435.5+ KB\n"
     ]
    }
   ],
   "source": [
    "df = pd.read_csv(\"CovidData3-18-2021.csv\")\n",
    "df.info()"
   ]
  },
  {
   "source": [
    "### Removing Unneccesary and Incomplete Info"
   ],
   "cell_type": "markdown",
   "metadata": {}
  },
  {
   "cell_type": "code",
   "execution_count": 3,
   "metadata": {},
   "outputs": [
    {
     "output_type": "execute_result",
     "data": {
      "text/plain": [
       "                 Country          Last_Update  Confirmed  Deaths  Recovered  \\\n",
       "0            Afghanistan  2021-03-19 05:26:09      56044    2462    49664.0   \n",
       "1                Albania  2021-03-19 05:26:09     119528    2106    83264.0   \n",
       "2                Algeria  2021-03-19 05:26:09     115842    3051    80347.0   \n",
       "3                Andorra  2021-03-19 05:26:09      11393     113    10904.0   \n",
       "4                 Angola  2021-03-19 05:26:09      21558     522    20032.0   \n",
       "...                  ...                  ...        ...     ...        ...   \n",
       "3976             Vietnam  2021-03-19 05:26:09       2570      35     2198.0   \n",
       "3977  West Bank and Gaza  2021-03-19 05:26:09     218061    2358   193578.0   \n",
       "3978               Yemen  2021-03-19 05:26:09       3126     723     1520.0   \n",
       "3979              Zambia  2021-03-19 05:26:09      85889    1175    82527.0   \n",
       "3980            Zimbabwe  2021-03-19 05:26:09      36611    1509    34226.0   \n",
       "\n",
       "       Active  Incident_Rate  Case_Fatality_Ratio  \n",
       "0      3918.0     143.967091             4.392977  \n",
       "1     34158.0    4153.450553             1.761930  \n",
       "2     32444.0     264.171596             2.633760  \n",
       "3       376.0   14745.356889             0.991837  \n",
       "4      1004.0      65.593088             2.421375  \n",
       "...       ...            ...                  ...  \n",
       "3976    337.0       2.640269             1.361868  \n",
       "3977  22125.0    4274.519075             1.081349  \n",
       "3978    883.0      10.480800            23.128599  \n",
       "3979   2187.0     467.195418             1.368045  \n",
       "3980    876.0     246.324294             4.121712  \n",
       "\n",
       "[688 rows x 8 columns]"
      ],
      "text/html": "<div>\n<style scoped>\n    .dataframe tbody tr th:only-of-type {\n        vertical-align: middle;\n    }\n\n    .dataframe tbody tr th {\n        vertical-align: top;\n    }\n\n    .dataframe thead th {\n        text-align: right;\n    }\n</style>\n<table border=\"1\" class=\"dataframe\">\n  <thead>\n    <tr style=\"text-align: right;\">\n      <th></th>\n      <th>Country</th>\n      <th>Last_Update</th>\n      <th>Confirmed</th>\n      <th>Deaths</th>\n      <th>Recovered</th>\n      <th>Active</th>\n      <th>Incident_Rate</th>\n      <th>Case_Fatality_Ratio</th>\n    </tr>\n  </thead>\n  <tbody>\n    <tr>\n      <th>0</th>\n      <td>Afghanistan</td>\n      <td>2021-03-19 05:26:09</td>\n      <td>56044</td>\n      <td>2462</td>\n      <td>49664.0</td>\n      <td>3918.0</td>\n      <td>143.967091</td>\n      <td>4.392977</td>\n    </tr>\n    <tr>\n      <th>1</th>\n      <td>Albania</td>\n      <td>2021-03-19 05:26:09</td>\n      <td>119528</td>\n      <td>2106</td>\n      <td>83264.0</td>\n      <td>34158.0</td>\n      <td>4153.450553</td>\n      <td>1.761930</td>\n    </tr>\n    <tr>\n      <th>2</th>\n      <td>Algeria</td>\n      <td>2021-03-19 05:26:09</td>\n      <td>115842</td>\n      <td>3051</td>\n      <td>80347.0</td>\n      <td>32444.0</td>\n      <td>264.171596</td>\n      <td>2.633760</td>\n    </tr>\n    <tr>\n      <th>3</th>\n      <td>Andorra</td>\n      <td>2021-03-19 05:26:09</td>\n      <td>11393</td>\n      <td>113</td>\n      <td>10904.0</td>\n      <td>376.0</td>\n      <td>14745.356889</td>\n      <td>0.991837</td>\n    </tr>\n    <tr>\n      <th>4</th>\n      <td>Angola</td>\n      <td>2021-03-19 05:26:09</td>\n      <td>21558</td>\n      <td>522</td>\n      <td>20032.0</td>\n      <td>1004.0</td>\n      <td>65.593088</td>\n      <td>2.421375</td>\n    </tr>\n    <tr>\n      <th>...</th>\n      <td>...</td>\n      <td>...</td>\n      <td>...</td>\n      <td>...</td>\n      <td>...</td>\n      <td>...</td>\n      <td>...</td>\n      <td>...</td>\n    </tr>\n    <tr>\n      <th>3976</th>\n      <td>Vietnam</td>\n      <td>2021-03-19 05:26:09</td>\n      <td>2570</td>\n      <td>35</td>\n      <td>2198.0</td>\n      <td>337.0</td>\n      <td>2.640269</td>\n      <td>1.361868</td>\n    </tr>\n    <tr>\n      <th>3977</th>\n      <td>West Bank and Gaza</td>\n      <td>2021-03-19 05:26:09</td>\n      <td>218061</td>\n      <td>2358</td>\n      <td>193578.0</td>\n      <td>22125.0</td>\n      <td>4274.519075</td>\n      <td>1.081349</td>\n    </tr>\n    <tr>\n      <th>3978</th>\n      <td>Yemen</td>\n      <td>2021-03-19 05:26:09</td>\n      <td>3126</td>\n      <td>723</td>\n      <td>1520.0</td>\n      <td>883.0</td>\n      <td>10.480800</td>\n      <td>23.128599</td>\n    </tr>\n    <tr>\n      <th>3979</th>\n      <td>Zambia</td>\n      <td>2021-03-19 05:26:09</td>\n      <td>85889</td>\n      <td>1175</td>\n      <td>82527.0</td>\n      <td>2187.0</td>\n      <td>467.195418</td>\n      <td>1.368045</td>\n    </tr>\n    <tr>\n      <th>3980</th>\n      <td>Zimbabwe</td>\n      <td>2021-03-19 05:26:09</td>\n      <td>36611</td>\n      <td>1509</td>\n      <td>34226.0</td>\n      <td>876.0</td>\n      <td>246.324294</td>\n      <td>4.121712</td>\n    </tr>\n  </tbody>\n</table>\n<p>688 rows × 8 columns</p>\n</div>"
     },
     "metadata": {},
     "execution_count": 3
    }
   ],
   "source": [
    "df = df.drop(columns = [\"FIPS\",\"Admin2\", \"Province_State\", \"Lat\", \"Long_\", \"Combined_Key\"])\n",
    "df = df.rename(columns= {\"Country_Region\": \"Country\"})\n",
    "df = df.dropna()\n",
    "df"
   ]
  },
  {
   "source": [
    "### Aggregating Data By Country"
   ],
   "cell_type": "markdown",
   "metadata": {}
  },
  {
   "cell_type": "code",
   "execution_count": 4,
   "metadata": {},
   "outputs": [
    {
     "output_type": "stream",
     "name": "stdout",
     "text": [
      "<class 'pandas.core.frame.DataFrame'>\nIndex: 189 entries, Afghanistan to Zimbabwe\nData columns (total 5 columns):\n #   Column         Non-Null Count  Dtype  \n---  ------         --------------  -----  \n 0   Last_Update    189 non-null    object \n 1   Confirmed      189 non-null    int64  \n 2   Deaths         189 non-null    int64  \n 3   Recovered      189 non-null    float64\n 4   Incident_Rate  189 non-null    float64\ndtypes: float64(2), int64(2), object(1)\nmemory usage: 8.9+ KB\n"
     ]
    }
   ],
   "source": [
    "df = df.groupby(\"Country\").agg({\"Last_Update\": np.max, \"Confirmed\" : \"sum\", \"Deaths\": \"sum\", \"Recovered\": \"sum\", \"Incident_Rate\": \"mean\"})\n",
    "df.info()"
   ]
  },
  {
   "cell_type": "code",
   "execution_count": 5,
   "metadata": {},
   "outputs": [
    {
     "output_type": "execute_result",
     "data": {
      "text/plain": [
       "                     Last_Update  Confirmed  Deaths  Recovered  Incident_Rate  \\\n",
       "Country                                                                         \n",
       "Afghanistan  2021-03-19 05:26:09      56044    2462    49664.0     143.967091   \n",
       "Albania      2021-03-19 05:26:09     119528    2106    83264.0    4153.450553   \n",
       "Algeria      2021-03-19 05:26:09     115842    3051    80347.0     264.171596   \n",
       "Andorra      2021-03-19 05:26:09      11393     113    10904.0   14745.356889   \n",
       "Angola       2021-03-19 05:26:09      21558     522    20032.0      65.593088   \n",
       "\n",
       "              Active  Case_Fatality_Ratio  \n",
       "Country                                    \n",
       "Afghanistan   3918.0             4.392977  \n",
       "Albania      34158.0             1.761930  \n",
       "Algeria      32444.0             2.633760  \n",
       "Andorra        376.0             0.991837  \n",
       "Angola        1004.0             2.421375  "
      ],
      "text/html": "<div>\n<style scoped>\n    .dataframe tbody tr th:only-of-type {\n        vertical-align: middle;\n    }\n\n    .dataframe tbody tr th {\n        vertical-align: top;\n    }\n\n    .dataframe thead th {\n        text-align: right;\n    }\n</style>\n<table border=\"1\" class=\"dataframe\">\n  <thead>\n    <tr style=\"text-align: right;\">\n      <th></th>\n      <th>Last_Update</th>\n      <th>Confirmed</th>\n      <th>Deaths</th>\n      <th>Recovered</th>\n      <th>Incident_Rate</th>\n      <th>Active</th>\n      <th>Case_Fatality_Ratio</th>\n    </tr>\n    <tr>\n      <th>Country</th>\n      <th></th>\n      <th></th>\n      <th></th>\n      <th></th>\n      <th></th>\n      <th></th>\n      <th></th>\n    </tr>\n  </thead>\n  <tbody>\n    <tr>\n      <th>Afghanistan</th>\n      <td>2021-03-19 05:26:09</td>\n      <td>56044</td>\n      <td>2462</td>\n      <td>49664.0</td>\n      <td>143.967091</td>\n      <td>3918.0</td>\n      <td>4.392977</td>\n    </tr>\n    <tr>\n      <th>Albania</th>\n      <td>2021-03-19 05:26:09</td>\n      <td>119528</td>\n      <td>2106</td>\n      <td>83264.0</td>\n      <td>4153.450553</td>\n      <td>34158.0</td>\n      <td>1.761930</td>\n    </tr>\n    <tr>\n      <th>Algeria</th>\n      <td>2021-03-19 05:26:09</td>\n      <td>115842</td>\n      <td>3051</td>\n      <td>80347.0</td>\n      <td>264.171596</td>\n      <td>32444.0</td>\n      <td>2.633760</td>\n    </tr>\n    <tr>\n      <th>Andorra</th>\n      <td>2021-03-19 05:26:09</td>\n      <td>11393</td>\n      <td>113</td>\n      <td>10904.0</td>\n      <td>14745.356889</td>\n      <td>376.0</td>\n      <td>0.991837</td>\n    </tr>\n    <tr>\n      <th>Angola</th>\n      <td>2021-03-19 05:26:09</td>\n      <td>21558</td>\n      <td>522</td>\n      <td>20032.0</td>\n      <td>65.593088</td>\n      <td>1004.0</td>\n      <td>2.421375</td>\n    </tr>\n  </tbody>\n</table>\n</div>"
     },
     "metadata": {},
     "execution_count": 5
    }
   ],
   "source": [
    "df[\"Active\"] = df[\"Confirmed\"] - df[\"Recovered\"] - df[\"Deaths\"]\n",
    "df[\"Case_Fatality_Ratio\"] = (df[\"Deaths\"]/df[\"Confirmed\"]) * 100\n",
    "df.head()"
   ]
  },
  {
   "source": [
    "## Adding Continent Data"
   ],
   "cell_type": "markdown",
   "metadata": {}
  },
  {
   "cell_type": "code",
   "execution_count": 42,
   "metadata": {
    "tags": []
   },
   "outputs": [],
   "source": [
    "df2 = pd.read_csv(\"countryContinent.csv\")\n",
    "\n",
    "for index, value in df.iterrows():\n",
    "    hold = df2.loc[df2[\"country\"] == str(index),\"continent\"]"
   ]
  },
  {
   "source": [
    "### Converting to .csv"
   ],
   "cell_type": "markdown",
   "metadata": {}
  },
  {
   "cell_type": "code",
   "execution_count": 81,
   "metadata": {},
   "outputs": [],
   "source": [
    "df.to_csv(\"covid-19.csv\", index = True)"
   ]
  },
  {
   "cell_type": "code",
   "execution_count": 82,
   "metadata": {},
   "outputs": [
    {
     "output_type": "stream",
     "name": "stdout",
     "text": [
      "<class 'pandas.core.frame.DataFrame'>\nIndex: 189 entries, Afghanistan to Zimbabwe\nData columns (total 7 columns):\n #   Column               Non-Null Count  Dtype  \n---  ------               --------------  -----  \n 0   Last_Update          189 non-null    object \n 1   Confirmed            189 non-null    int64  \n 2   Deaths               189 non-null    int64  \n 3   Recovered            189 non-null    float64\n 4   Incident_Rate        189 non-null    float64\n 5   Active               189 non-null    float64\n 6   Case_Fatality_Ratio  189 non-null    float64\ndtypes: float64(4), int64(2), object(1)\nmemory usage: 11.8+ KB\n"
     ]
    }
   ],
   "source": [
    "df.info()"
   ]
  },
  {
   "cell_type": "code",
   "execution_count": null,
   "metadata": {},
   "outputs": [],
   "source": []
  }
 ]
}